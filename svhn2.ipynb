{
 "cells": [
  {
   "cell_type": "markdown",
   "metadata": {},
   "source": []
  },
  {
   "cell_type": "code",
   "execution_count": 3,
   "metadata": {},
   "outputs": [
    {
     "name": "stderr",
     "output_type": "stream",
     "text": [
      "/Users/pradyumna/anaconda3/envs/RoboND/lib/python3.5/importlib/_bootstrap.py:222: RuntimeWarning: compiletime version 3.6 of module 'tensorflow.python.framework.fast_tensor_util' does not match runtime version 3.5\n",
      "  return f(*args, **kwds)\n"
     ]
    }
   ],
   "source": [
    "# These are all the modules we'll be using later. Make sure you can import them\n",
    "# before proceeding further.\n",
    "from __future__ import print_function\n",
    "import imageio\n",
    "import matplotlib.pyplot as plt\n",
    "import numpy as np\n",
    "import os\n",
    "import sys\n",
    "import tarfile\n",
    "from IPython.display import display, Image\n",
    "from sklearn.linear_model import LogisticRegression\n",
    "from six.moves.urllib.request import urlretrieve\n",
    "from six.moves import cPickle as pickle\n",
    "import pandas as pd\n",
    "import scipy.io as sc\n",
    "import tensorflow as tf\n",
    "\n",
    "# Config the matplotlib backend as plotting inline in IPython\n",
    "%matplotlib inline"
   ]
  },
  {
   "cell_type": "code",
   "execution_count": 4,
   "metadata": {},
   "outputs": [],
   "source": [
    "data_root = '.'\n",
    "train_folder = sc.loadmat(os.path.join(data_root,'train_32x32.mat'))\n",
    "test_folder = sc.loadmat(os.path.join(data_root,'test_32x32.mat'))\n",
    "extra_folder = sc.loadmat(os.path.join(data_root,'extra_32x32.mat'))"
   ]
  },
  {
   "cell_type": "code",
   "execution_count": 5,
   "metadata": {},
   "outputs": [],
   "source": [
    "train_images = train_folder['X']\n",
    "train_labels = train_folder['y']\n",
    "test_images = test_folder['X']\n",
    "test_labels = test_folder['y']\n",
    "extra_images = extra_folder['X']\n",
    "extra_labels = extra_folder['y']"
   ]
  },
  {
   "cell_type": "code",
   "execution_count": 6,
   "metadata": {},
   "outputs": [
    {
     "name": "stdout",
     "output_type": "stream",
     "text": [
      "Valid Data\n",
      "Valid Data\n",
      "Valid Data\n"
     ]
    }
   ],
   "source": [
    "def data_validation(imagedata,labels):\n",
    "    if imagedata.shape[3]==len(labels):\n",
    "        print(\"Valid Data\")\n",
    "    else:\n",
    "        print(\"data invalid\")\n",
    "data_validation(train_images,train_labels)\n",
    "data_validation(test_images,test_labels)\n",
    "data_validation(extra_images,extra_labels)"
   ]
  },
  {
   "cell_type": "code",
   "execution_count": 7,
   "metadata": {},
   "outputs": [
    {
     "data": {
      "text/plain": [
       "(26032, 1)"
      ]
     },
     "execution_count": 7,
     "metadata": {},
     "output_type": "execute_result"
    }
   ],
   "source": [
    "test_labels.shape"
   ]
  },
  {
   "cell_type": "code",
   "execution_count": 8,
   "metadata": {},
   "outputs": [
    {
     "data": {
      "text/plain": [
       "<matplotlib.image.AxesImage at 0x115eeb240>"
      ]
     },
     "execution_count": 8,
     "metadata": {},
     "output_type": "execute_result"
    },
    {
     "data": {
      "image/png": "[encoded data removed]",
      "text/plain": [
       "<Figure size 432x288 with 1 Axes>"
      ]
     },
     "metadata": {
      "needs_background": "light"
     },
     "output_type": "display_data"
    }
   ],
   "source": [
    "plt.figure()\n",
    "plt.imshow(train_images[:,:,:,1])"
   ]
  },
  {
   "cell_type": "code",
   "execution_count": 9,
   "metadata": {},
   "outputs": [
    {
     "data": {
      "text/plain": [
       "array([[1],\n",
       "       [9],\n",
       "       [2],\n",
       "       ...,\n",
       "       [1],\n",
       "       [6],\n",
       "       [9]], dtype=uint8)"
      ]
     },
     "execution_count": 9,
     "metadata": {},
     "output_type": "execute_result"
    }
   ],
   "source": [
    "train_labels"
   ]
  },
  {
   "cell_type": "code",
   "execution_count": 10,
   "metadata": {},
   "outputs": [],
   "source": [
    "image_size = 32\n",
    "num_labels = 10\n",
    "num_channels = 3 # grayscale\n",
    "\n",
    "import numpy as np\n",
    "\n",
    "def reformat(dataset, labels):\n",
    "  dataset = np.transpose(dataset,(3,0,1,2))\n",
    "  labels = (np.arange(num_labels) == labels).astype(np.float32)\n",
    "  return dataset, labels\n",
    "train_dataset, train_labels = reformat(train_images, train_labels)\n",
    "valid_dataset, valid_labels = reformat(extra_images, extra_labels)\n",
    "test_dataset, test_labels = reformat(test_images, test_labels)\n"
   ]
  },
  {
   "cell_type": "code",
   "execution_count": 11,
   "metadata": {},
   "outputs": [
    {
     "data": {
      "text/plain": [
       "array([[[ 33,  30,  38],\n",
       "        [ 15,  23,  19],\n",
       "        [ 15,  17,  19],\n",
       "        ...,\n",
       "        [ 72,  65,  56],\n",
       "        [ 82,  77,  57],\n",
       "        [ 89,  79,  59]],\n",
       "\n",
       "       [[ 28,  39,  35],\n",
       "        [ 14,  25,  22],\n",
       "        [ 14,  20,  17],\n",
       "        ...,\n",
       "        [ 40,  39,  50],\n",
       "        [ 67,  58,  52],\n",
       "        [ 83,  78,  60]],\n",
       "\n",
       "       [[ 40,  41,  38],\n",
       "        [ 18,  21,  26],\n",
       "        [ 16,  17,  23],\n",
       "        ...,\n",
       "        [ 23,  29,  45],\n",
       "        [ 35,  42,  44],\n",
       "        [ 72,  69,  53]],\n",
       "\n",
       "       ...,\n",
       "\n",
       "       [[ 86,  81,  75],\n",
       "        [ 87,  82,  71],\n",
       "        [ 82,  79,  65],\n",
       "        ...,\n",
       "        [104, 104,  87],\n",
       "        [104, 105,  81],\n",
       "        [103, 105,  78]],\n",
       "\n",
       "       [[ 84,  86,  64],\n",
       "        [ 86,  79,  72],\n",
       "        [ 82,  76,  72],\n",
       "        ...,\n",
       "        [110, 103,  84],\n",
       "        [106, 105,  85],\n",
       "        [106, 104,  86]],\n",
       "\n",
       "       [[ 85,  88,  68],\n",
       "        [ 89,  82,  72],\n",
       "        [ 85,  79,  67],\n",
       "        ...,\n",
       "        [111, 104,  87],\n",
       "        [109, 105,  86],\n",
       "        [103, 106,  79]]], dtype=uint8)"
      ]
     },
     "execution_count": 11,
     "metadata": {},
     "output_type": "execute_result"
    }
   ],
   "source": [
    "train_dataset[0,:,:,:]"
   ]
  },
  {
   "cell_type": "raw",
   "metadata": {},
   "source": []
  },
  {
   "cell_type": "code",
   "execution_count": 12,
   "metadata": {},
   "outputs": [
    {
     "data": {
      "text/plain": [
       "<matplotlib.image.AxesImage at 0x1160ff0f0>"
      ]
     },
     "execution_count": 12,
     "metadata": {},
     "output_type": "execute_result"
    },
    {
     "data": {
      "image/png": "[encoded data removed]",
      "text/plain": [
       "<Figure size 432x288 with 1 Axes>"
      ]
     },
     "metadata": {
      "needs_background": "light"
     },
     "output_type": "display_data"
    }
   ],
   "source": [
    "plt.figure()\n",
    "plt.imshow(train_dataset[0,:,:,:])"
   ]
  },
  {
   "cell_type": "code",
   "execution_count": 13,
   "metadata": {},
   "outputs": [
    {
     "data": {
      "text/plain": [
       "<matplotlib.image.AxesImage at 0x12fe18b38>"
      ]
     },
     "execution_count": 13,
     "metadata": {},
     "output_type": "execute_result"
    },
    {
     "data": {
      "image/png": "[encoded data removed]",
      "text/plain": [
       "<Figure size 432x288 with 1 Axes>"
      ]
     },
     "metadata": {
      "needs_background": "light"
     },
     "output_type": "display_data"
    }
   ],
   "source": [
    "plt.imshow(train_dataset.astype(np.float32)[0,:,:,2])"
   ]
  },
  {
   "cell_type": "code",
   "execution_count": 14,
   "metadata": {},
   "outputs": [],
   "source": [
    "def datatype(dataset):\n",
    "    z = dataset.astype(np.float32)\n",
    "    return z\n",
    "train_dataset = datatype(train_dataset)\n",
    "test_dataset = datatype(test_dataset)\n",
    "valid_dataset = datatype(valid_dataset)"
   ]
  },
  {
   "cell_type": "code",
   "execution_count": 15,
   "metadata": {},
   "outputs": [],
   "source": [
    "num_images = 20000\n",
    "valid_dataset = valid_dataset[0:20000,:,:,:]\n",
    "valid_labels = valid_labels[0:20000,:]"
   ]
  },
  {
   "cell_type": "code",
   "execution_count": 16,
   "metadata": {},
   "outputs": [
    {
     "data": {
      "text/plain": [
       "(20000, 10)"
      ]
     },
     "execution_count": 16,
     "metadata": {},
     "output_type": "execute_result"
    }
   ],
   "source": [
    "valid_dataset.shape\n",
    "valid_labels.shape"
   ]
  },
  {
   "cell_type": "code",
   "execution_count": 17,
   "metadata": {},
   "outputs": [
    {
     "data": {
      "text/plain": [
       "array([[[ 33.,  30.,  38.],\n",
       "        [ 15.,  23.,  19.],\n",
       "        [ 15.,  17.,  19.],\n",
       "        ...,\n",
       "        [ 72.,  65.,  56.],\n",
       "        [ 82.,  77.,  57.],\n",
       "        [ 89.,  79.,  59.]],\n",
       "\n",
       "       [[ 28.,  39.,  35.],\n",
       "        [ 14.,  25.,  22.],\n",
       "        [ 14.,  20.,  17.],\n",
       "        ...,\n",
       "        [ 40.,  39.,  50.],\n",
       "        [ 67.,  58.,  52.],\n",
       "        [ 83.,  78.,  60.]],\n",
       "\n",
       "       [[ 40.,  41.,  38.],\n",
       "        [ 18.,  21.,  26.],\n",
       "        [ 16.,  17.,  23.],\n",
       "        ...,\n",
       "        [ 23.,  29.,  45.],\n",
       "        [ 35.,  42.,  44.],\n",
       "        [ 72.,  69.,  53.]],\n",
       "\n",
       "       ...,\n",
       "\n",
       "       [[ 86.,  81.,  75.],\n",
       "        [ 87.,  82.,  71.],\n",
       "        [ 82.,  79.,  65.],\n",
       "        ...,\n",
       "        [104., 104.,  87.],\n",
       "        [104., 105.,  81.],\n",
       "        [103., 105.,  78.]],\n",
       "\n",
       "       [[ 84.,  86.,  64.],\n",
       "        [ 86.,  79.,  72.],\n",
       "        [ 82.,  76.,  72.],\n",
       "        ...,\n",
       "        [110., 103.,  84.],\n",
       "        [106., 105.,  85.],\n",
       "        [106., 104.,  86.]],\n",
       "\n",
       "       [[ 85.,  88.,  68.],\n",
       "        [ 89.,  82.,  72.],\n",
       "        [ 85.,  79.,  67.],\n",
       "        ...,\n",
       "        [111., 104.,  87.],\n",
       "        [109., 105.,  86.],\n",
       "        [103., 106.,  79.]]], dtype=float32)"
      ]
     },
     "execution_count": 17,
     "metadata": {},
     "output_type": "execute_result"
    }
   ],
   "source": [
    "train_dataset[0,:,:,:]"
   ]
  },
  {
   "cell_type": "code",
   "execution_count": 20,
   "metadata": {},
   "outputs": [
    {
     "data": {
      "text/plain": [
       "array([0., 0., 0., 0., 0., 1., 0., 0., 0., 0.], dtype=float32)"
      ]
     },
     "execution_count": 20,
     "metadata": {},
     "output_type": "execute_result"
    },
    {
     "data": {
      "image/png": "[encoded data removed]",
      "text/plain": [
       "<Figure size 432x288 with 1 Axes>"
      ]
     },
     "metadata": {
      "needs_background": "light"
     },
     "output_type": "display_data"
    }
   ],
   "source": [
    "plt.figure()\n",
    "plt.imshow(test_dataset[0,:,:,1])\n",
    "test_labels[0]"
   ]
  },
  {
   "cell_type": "code",
   "execution_count": 21,
   "metadata": {},
   "outputs": [],
   "source": [
    "pixel_depth = 255\n",
    "def normalize(dataset):\n",
    "    z = (dataset-pixel_depth/2)/pixel_depth\n",
    "    return z\n",
    "train_dataset = normalize(train_dataset)\n",
    "test_dataset = normalize(test_dataset)\n",
    "valid_dataset = normalize(valid_dataset)\n",
    "        "
   ]
  },
  {
   "cell_type": "code",
   "execution_count": 20,
   "metadata": {},
   "outputs": [
    {
     "data": {
      "text/plain": [
       "array([[[[-0.3509804 , -0.09607843, -0.2647059 ],\n",
       "         [-0.34705883, -0.09215686, -0.26078433],\n",
       "         [-0.34705883, -0.09215686, -0.25686276],\n",
       "         ...,\n",
       "         [-0.3392157 , -0.1       , -0.26078433],\n",
       "         [-0.33529413, -0.09607843, -0.25686276],\n",
       "         [-0.34705883, -0.11960784, -0.2764706 ]],\n",
       "\n",
       "        [[-0.34705883, -0.09215686, -0.26078433],\n",
       "         [-0.34705883, -0.09215686, -0.26078433],\n",
       "         [-0.34705883, -0.09215686, -0.25686276],\n",
       "         ...,\n",
       "         [-0.3392157 , -0.1       , -0.26078433],\n",
       "         [-0.33137256, -0.10392157, -0.2529412 ],\n",
       "         [-0.34705883, -0.11960784, -0.2764706 ]],\n",
       "\n",
       "        [[-0.3509804 , -0.0882353 , -0.25686276],\n",
       "         [-0.35490197, -0.09215686, -0.26078433],\n",
       "         [-0.34705883, -0.08431373, -0.2529412 ],\n",
       "         ...,\n",
       "         [-0.33137256, -0.10392157, -0.2529412 ],\n",
       "         [-0.33137256, -0.10784314, -0.24901961],\n",
       "         [-0.34705883, -0.11960784, -0.26862746]],\n",
       "\n",
       "        ...,\n",
       "\n",
       "        [[-0.29607844, -0.03333334, -0.19411765],\n",
       "         [-0.29215688, -0.02941176, -0.19019608],\n",
       "         [-0.3       , -0.0372549 , -0.19803922],\n",
       "         ...,\n",
       "         [-0.327451  , -0.0372549 , -0.22941177],\n",
       "         [-0.327451  , -0.04117647, -0.22156863],\n",
       "         [-0.3392157 , -0.05294118, -0.22941177]],\n",
       "\n",
       "        [[-0.30392158, -0.04117647, -0.20196079],\n",
       "         [-0.3       , -0.0372549 , -0.19803922],\n",
       "         [-0.30784315, -0.04509804, -0.20588236],\n",
       "         ...,\n",
       "         [-0.327451  , -0.04117647, -0.22156863],\n",
       "         [-0.32352942, -0.04509804, -0.21764706],\n",
       "         [-0.33529413, -0.05686275, -0.22941177]],\n",
       "\n",
       "        [[-0.31176472, -0.04901961, -0.20980392],\n",
       "         [-0.31176472, -0.04901961, -0.20980392],\n",
       "         [-0.31960785, -0.05686275, -0.21764706],\n",
       "         ...,\n",
       "         [-0.33137256, -0.04509804, -0.22156863],\n",
       "         [-0.327451  , -0.04901961, -0.22156863],\n",
       "         [-0.33529413, -0.05686275, -0.22156863]]],\n",
       "\n",
       "\n",
       "       [[[ 0.00588235,  0.05686275,  0.1       ],\n",
       "         [-0.00196078,  0.06078431,  0.09607843],\n",
       "         [-0.00980392,  0.06078431,  0.09215686],\n",
       "         ...,\n",
       "         [-0.0254902 ,  0.02156863,  0.1       ],\n",
       "         [-0.01764706,  0.0254902 ,  0.11176471],\n",
       "         [-0.01764706,  0.02941176,  0.11568628]],\n",
       "\n",
       "        [[ 0.0254902 ,  0.0882353 ,  0.12745099],\n",
       "         [ 0.02156863,  0.08431373,  0.11960784],\n",
       "         [ 0.01764706,  0.08431373,  0.11568628],\n",
       "         ...,\n",
       "         [-0.00196078,  0.04117647,  0.11568628],\n",
       "         [-0.00588235,  0.0372549 ,  0.11568628],\n",
       "         [-0.00980392,  0.0372549 ,  0.11960784]],\n",
       "\n",
       "        [[ 0.05294118,  0.11960784,  0.15882353],\n",
       "         [ 0.04901961,  0.11568628,  0.1509804 ],\n",
       "         [ 0.04901961,  0.11568628,  0.14705883],\n",
       "         ...,\n",
       "         [ 0.02941176,  0.07647059,  0.1392157 ],\n",
       "         [ 0.01764706,  0.06078431,  0.13137256],\n",
       "         [ 0.00980392,  0.05294118,  0.12745099]],\n",
       "\n",
       "        ...,\n",
       "\n",
       "        [[ 0.07647059,  0.13137256,  0.18235295],\n",
       "         [ 0.05686275,  0.11176471,  0.1627451 ],\n",
       "         [ 0.03333334,  0.09215686,  0.1392157 ],\n",
       "         ...,\n",
       "         [-0.13529412, -0.11960784, -0.00588235],\n",
       "         [-0.12352941, -0.10784314,  0.00196078],\n",
       "         [-0.09215686, -0.07254902,  0.03333334]],\n",
       "\n",
       "        [[ 0.04117647,  0.09607843,  0.14705883],\n",
       "         [ 0.00980392,  0.06470589,  0.11568628],\n",
       "         [-0.0254902 ,  0.03333334,  0.08039216],\n",
       "         ...,\n",
       "         [-0.13529412, -0.11176471,  0.00196078],\n",
       "         [-0.10392157, -0.08039216,  0.0254902 ],\n",
       "         [-0.06078431, -0.0372549 ,  0.06470589]],\n",
       "\n",
       "        [[ 0.01372549,  0.06862745,  0.11960784],\n",
       "         [-0.02156863,  0.03333334,  0.08431373],\n",
       "         [-0.06470589, -0.00588235,  0.04509804],\n",
       "         ...,\n",
       "         [-0.10392157, -0.07647059,  0.02941176],\n",
       "         [-0.06470589, -0.0372549 ,  0.06470589],\n",
       "         [-0.01764706,  0.00980392,  0.11176471]]],\n",
       "\n",
       "\n",
       "       [[[ 0.0882353 ,  0.12745099,  0.1627451 ],\n",
       "         [ 0.0882353 ,  0.1392157 ,  0.16666667],\n",
       "         [ 0.09607843,  0.15882353,  0.17450981],\n",
       "         ...,\n",
       "         [ 0.1       ,  0.17450981,  0.20588236],\n",
       "         [ 0.0882353 ,  0.17058824,  0.20980392],\n",
       "         [ 0.07647059,  0.1627451 ,  0.20588236]],\n",
       "\n",
       "        [[ 0.0882353 ,  0.12745099,  0.1627451 ],\n",
       "         [ 0.09215686,  0.1392157 ,  0.1627451 ],\n",
       "         [ 0.1       ,  0.15882353,  0.17058824],\n",
       "         ...,\n",
       "         [ 0.11176471,  0.18235295,  0.20588236],\n",
       "         [ 0.1       ,  0.17058824,  0.20588236],\n",
       "         [ 0.0882353 ,  0.1627451 ,  0.20196079]],\n",
       "\n",
       "        [[ 0.06470589,  0.10392157,  0.1392157 ],\n",
       "         [ 0.07254902,  0.11568628,  0.1392157 ],\n",
       "         [ 0.08039216,  0.13529412,  0.14705883],\n",
       "         ...,\n",
       "         [ 0.11568628,  0.17450981,  0.19411765],\n",
       "         [ 0.1       ,  0.15882353,  0.18627451],\n",
       "         [ 0.0882353 ,  0.14705883,  0.17843138]],\n",
       "\n",
       "        ...,\n",
       "\n",
       "        [[ 0.02941176,  0.0882353 ,  0.15490197],\n",
       "         [ 0.0254902 ,  0.08431373,  0.1509804 ],\n",
       "         [ 0.01764706,  0.07647059,  0.14705883],\n",
       "         ...,\n",
       "         [-0.01372549,  0.04901961,  0.11568628],\n",
       "         [-0.02156863,  0.04509804,  0.11568628],\n",
       "         [-0.0254902 ,  0.04117647,  0.11960784]],\n",
       "\n",
       "        [[ 0.07647059,  0.14705883,  0.20196079],\n",
       "         [ 0.07647059,  0.14313726,  0.20196079],\n",
       "         [ 0.07647059,  0.14313726,  0.20196079],\n",
       "         ...,\n",
       "         [ 0.04509804,  0.10784314,  0.16666667],\n",
       "         [ 0.04509804,  0.10784314,  0.16666667],\n",
       "         [ 0.04117647,  0.10784314,  0.17058824]],\n",
       "\n",
       "        [[ 0.12352941,  0.19411765,  0.24117647],\n",
       "         [ 0.12352941,  0.19411765,  0.24509804],\n",
       "         [ 0.12352941,  0.19411765,  0.24901961],\n",
       "         ...,\n",
       "         [ 0.09607843,  0.15882353,  0.20980392],\n",
       "         [ 0.09607843,  0.15882353,  0.21372549],\n",
       "         [ 0.09607843,  0.15882353,  0.21764706]]],\n",
       "\n",
       "\n",
       "       ...,\n",
       "\n",
       "\n",
       "       [[[-0.04901961,  0.01764706,  0.05686275],\n",
       "         [-0.04509804,  0.02156863,  0.06078431],\n",
       "         [-0.04117647,  0.0254902 ,  0.06470589],\n",
       "         ...,\n",
       "         [-0.05294118,  0.03333334,  0.05294118],\n",
       "         [-0.05294118,  0.03333334,  0.05686275],\n",
       "         [-0.04901961,  0.03333334,  0.06078431]],\n",
       "\n",
       "        [[-0.02156863,  0.04509804,  0.08039216],\n",
       "         [-0.01764706,  0.04901961,  0.08431373],\n",
       "         [-0.01372549,  0.05294118,  0.0882353 ],\n",
       "         ...,\n",
       "         [-0.0372549 ,  0.04509804,  0.06078431],\n",
       "         [-0.0372549 ,  0.04509804,  0.06862745],\n",
       "         [-0.03333334,  0.04509804,  0.07254902]],\n",
       "\n",
       "        [[ 0.01372549,  0.08039216,  0.10784314],\n",
       "         [ 0.01764706,  0.08431373,  0.11176471],\n",
       "         [ 0.02156863,  0.08431373,  0.11568628],\n",
       "         ...,\n",
       "         [-0.00980392,  0.06078431,  0.07647059],\n",
       "         [-0.00980392,  0.06078431,  0.08431373],\n",
       "         [-0.00588235,  0.06470589,  0.0882353 ]],\n",
       "\n",
       "        ...,\n",
       "\n",
       "        [[-0.13137256, -0.11960784, -0.05294118],\n",
       "         [-0.13529412, -0.12352941, -0.05686275],\n",
       "         [-0.1392157 , -0.12745099, -0.06078431],\n",
       "         ...,\n",
       "         [ 0.04901961,  0.1       ,  0.13529412],\n",
       "         [ 0.05686275,  0.10784314,  0.14313726],\n",
       "         [ 0.06470589,  0.11568628,  0.14705883]],\n",
       "\n",
       "        [[-0.04117647, -0.02156863,  0.0372549 ],\n",
       "         [-0.04117647, -0.02156863,  0.0372549 ],\n",
       "         [-0.0372549 , -0.01764706,  0.0372549 ],\n",
       "         ...,\n",
       "         [ 0.05294118,  0.10392157,  0.1392157 ],\n",
       "         [ 0.06078431,  0.11176471,  0.14313726],\n",
       "         [ 0.06470589,  0.11568628,  0.14705883]],\n",
       "\n",
       "        [[ 0.01764706,  0.04117647,  0.09607843],\n",
       "         [ 0.02156863,  0.04901961,  0.09607843],\n",
       "         [ 0.02941176,  0.05686275,  0.1       ],\n",
       "         ...,\n",
       "         [ 0.05686275,  0.10784314,  0.14313726],\n",
       "         [ 0.06078431,  0.11176471,  0.14705883],\n",
       "         [ 0.06470589,  0.11568628,  0.14705883]]],\n",
       "\n",
       "\n",
       "       [[[-0.12352941, -0.24509804, -0.3156863 ],\n",
       "         [-0.11960784, -0.24509804, -0.30784315],\n",
       "         [-0.11960784, -0.24509804, -0.30392158],\n",
       "         ...,\n",
       "         [-0.1627451 , -0.26078433, -0.2882353 ],\n",
       "         [-0.15882353, -0.25686276, -0.28431374],\n",
       "         [-0.15490197, -0.2529412 , -0.28039217]],\n",
       "\n",
       "        [[-0.12352941, -0.24509804, -0.31176472],\n",
       "         [-0.11960784, -0.24509804, -0.30392158],\n",
       "         [-0.11960784, -0.24509804, -0.3       ],\n",
       "         ...,\n",
       "         [-0.16666667, -0.25686276, -0.29215688],\n",
       "         [-0.15882353, -0.2529412 , -0.2882353 ],\n",
       "         [-0.15490197, -0.24901961, -0.28431374]],\n",
       "\n",
       "        [[-0.12352941, -0.24901961, -0.30784315],\n",
       "         [-0.12352941, -0.24901961, -0.30392158],\n",
       "         [-0.12352941, -0.24901961, -0.3       ],\n",
       "         ...,\n",
       "         [-0.15882353, -0.24117647, -0.2882353 ],\n",
       "         [-0.14705883, -0.23333333, -0.2764706 ],\n",
       "         [-0.14313726, -0.22941177, -0.27254903]],\n",
       "\n",
       "        ...,\n",
       "\n",
       "        [[-0.11176471, -0.23333333, -0.31176472],\n",
       "         [-0.11176471, -0.2254902 , -0.30392158],\n",
       "         [-0.10784314, -0.21372549, -0.29215688],\n",
       "         ...,\n",
       "         [ 0.04117647, -0.0254902 , -0.0882353 ],\n",
       "         [-0.00196078, -0.07254902, -0.13529412],\n",
       "         [-0.04117647, -0.11568628, -0.17450981]],\n",
       "\n",
       "        [[-0.11568628, -0.2372549 , -0.31960785],\n",
       "         [-0.11176471, -0.2254902 , -0.31176472],\n",
       "         [-0.10784314, -0.21372549, -0.3       ],\n",
       "         ...,\n",
       "         [-0.00588235, -0.07647059, -0.1392157 ],\n",
       "         [-0.0372549 , -0.11176471, -0.17450981],\n",
       "         [-0.06862745, -0.14313726, -0.20588236]],\n",
       "\n",
       "        [[-0.11960784, -0.24117647, -0.32352942],\n",
       "         [-0.11176471, -0.22941177, -0.31176472],\n",
       "         [-0.10784314, -0.21764706, -0.3       ],\n",
       "         ...,\n",
       "         [-0.0372549 , -0.11176471, -0.17843138],\n",
       "         [-0.06470589, -0.1392157 , -0.20980392],\n",
       "         [-0.09215686, -0.16666667, -0.23333333]]],\n",
       "\n",
       "\n",
       "       [[[-0.10392157, -0.20588236, -0.2647059 ],\n",
       "         [-0.10784314, -0.21372549, -0.2647059 ],\n",
       "         [-0.11176471, -0.22156863, -0.26862746],\n",
       "         ...,\n",
       "         [-0.12745099, -0.2529412 , -0.29607844],\n",
       "         [-0.12745099, -0.2529412 , -0.29607844],\n",
       "         [-0.12352941, -0.24901961, -0.3       ]],\n",
       "\n",
       "        [[-0.07254902, -0.17058824, -0.22941177],\n",
       "         [-0.08039216, -0.18627451, -0.2372549 ],\n",
       "         [-0.09215686, -0.20196079, -0.24901961],\n",
       "         ...,\n",
       "         [-0.12745099, -0.25686276, -0.29215688],\n",
       "         [-0.13529412, -0.26078433, -0.30392158],\n",
       "         [-0.13529412, -0.26078433, -0.30784315]],\n",
       "\n",
       "        [[-0.04117647, -0.12745099, -0.19411765],\n",
       "         [-0.05294118, -0.14705883, -0.20588236],\n",
       "         [-0.07647059, -0.17450981, -0.2254902 ],\n",
       "         ...,\n",
       "         [-0.12745099, -0.25686276, -0.29215688],\n",
       "         [-0.1392157 , -0.2647059 , -0.30392158],\n",
       "         [-0.14313726, -0.26862746, -0.31176472]],\n",
       "\n",
       "        ...,\n",
       "\n",
       "        [[-0.04509804, -0.12352941, -0.16666667],\n",
       "         [-0.04509804, -0.12352941, -0.15882353],\n",
       "         [-0.04901961, -0.12745099, -0.15882353],\n",
       "         ...,\n",
       "         [-0.10392157, -0.2254902 , -0.30392158],\n",
       "         [-0.10392157, -0.2254902 , -0.30392158],\n",
       "         [-0.10392157, -0.2254902 , -0.30392158]],\n",
       "\n",
       "        [[-0.09215686, -0.17450981, -0.22156863],\n",
       "         [-0.0882353 , -0.17058824, -0.21372549],\n",
       "         [-0.0882353 , -0.17058824, -0.20980392],\n",
       "         ...,\n",
       "         [-0.10392157, -0.2254902 , -0.30784315],\n",
       "         [-0.1       , -0.22156863, -0.30392158],\n",
       "         [-0.1       , -0.22156863, -0.30392158]],\n",
       "\n",
       "        [[-0.12745099, -0.21372549, -0.25686276],\n",
       "         [-0.12352941, -0.20980392, -0.2529412 ],\n",
       "         [-0.11960784, -0.20588236, -0.24901961],\n",
       "         ...,\n",
       "         [-0.10392157, -0.2254902 , -0.30784315],\n",
       "         [-0.1       , -0.22156863, -0.30392158],\n",
       "         [-0.1       , -0.22156863, -0.30392158]]]], dtype=float32)"
      ]
     },
     "execution_count": 20,
     "metadata": {},
     "output_type": "execute_result"
    }
   ],
   "source": [
    "test_dataset"
   ]
  },
  {
   "cell_type": "code",
   "execution_count": 21,
   "metadata": {},
   "outputs": [
    {
     "data": {
      "text/plain": [
       "array([0., 1., 0., 0., 0., 0., 0., 0., 0., 0.], dtype=float32)"
      ]
     },
     "execution_count": 21,
     "metadata": {},
     "output_type": "execute_result"
    }
   ],
   "source": [
    "train_labels[0]"
   ]
  },
  {
   "cell_type": "code",
   "execution_count": 22,
   "metadata": {},
   "outputs": [
    {
     "name": "stdout",
     "output_type": "stream",
     "text": [
      "[512, 8, 8, 96]\n",
      "WARNING:tensorflow:From <ipython-input-22-4a7cceb41902>:45: softmax_cross_entropy_with_logits (from tensorflow.python.ops.nn_ops) is deprecated and will be removed in a future version.\n",
      "Instructions for updating:\n",
      "\n",
      "Future major versions of TensorFlow will allow gradients to flow\n",
      "into the labels input on backprop by default.\n",
      "\n",
      "See @{tf.nn.softmax_cross_entropy_with_logits_v2}.\n",
      "\n",
      "(512, 10)\n",
      "[20000, 8, 8, 96]\n",
      "[26032, 8, 8, 96]\n"
     ]
    }
   ],
   "source": [
    "batch_size = 512\n",
    "patch_size = 5\n",
    "depth1 = 48\n",
    "depth2 = 96\n",
    "num_hidden = 64\n",
    "num_channels = 3 #RGB image\n",
    "\n",
    "graph = tf.Graph()\n",
    "\n",
    "with graph.as_default():\n",
    "\n",
    "  # Input data.\n",
    "  tf_train_dataset = tf.placeholder(tf.float32, shape=(batch_size, image_size, image_size, num_channels))\n",
    "  tf_train_labels = tf.placeholder(tf.float32, shape=(batch_size, num_labels))\n",
    "  tf_valid_dataset = tf.constant(valid_dataset)\n",
    "  tf_test_dataset = tf.constant(test_dataset)\n",
    "  global_step = tf.Variable(0)\n",
    "  \n",
    "  # Variables.\n",
    "  layer1_weights = tf.Variable(tf.truncated_normal([patch_size, patch_size, num_channels, depth1], stddev=0.1))\n",
    "  layer1_biases = tf.Variable(tf.zeros([depth1]))\n",
    "  layer2_weights = tf.Variable(tf.truncated_normal([patch_size, patch_size, depth1, depth2], stddev=0.1))\n",
    "  layer2_biases = tf.Variable(tf.constant(1.0, shape=[depth2]))\n",
    "  layer3_weights = tf.Variable(tf.truncated_normal([image_size // 4 * image_size // 4 * depth2, num_hidden], stddev=0.1))\n",
    "  layer3_biases = tf.Variable(tf.constant(1.0, shape=[num_hidden]))\n",
    "  layer4_weights = tf.Variable(tf.truncated_normal([num_hidden, num_labels], stddev=0.1))\n",
    "  layer4_biases = tf.Variable(tf.constant(1.0, shape=[num_labels]))\n",
    "  \n",
    "  # Model.\n",
    "  def model(data):\n",
    "    conv = tf.nn.conv2d(data, layer1_weights, [1, 1, 1, 1], padding='SAME')\n",
    "    hidden = tf.nn.relu(conv + layer1_biases)\n",
    "    pool = tf.nn.max_pool(hidden, [1, 2, 2, 1], [1, 2, 2, 1], padding='SAME')\n",
    "    conv = tf.nn.conv2d(pool, layer2_weights, [1, 1, 1, 1], padding='SAME')\n",
    "    hidden = tf.nn.relu(conv + layer2_biases)\n",
    "    pool = tf.nn.max_pool(hidden, [1, 2, 2, 1], [1, 2, 2, 1], padding='SAME')\n",
    "    shape = pool.get_shape().as_list()\n",
    "    print(shape)\n",
    "    reshape = tf.reshape(pool, [shape[0], shape[1] * shape[2] * shape[3]])\n",
    "    hidden = tf.nn.relu(tf.matmul(reshape, layer3_weights) + layer3_biases)\n",
    "    return tf.matmul(hidden, layer4_weights) + layer4_biases\n",
    "  \n",
    "  # Training computation.\n",
    "  logits = model(tf_train_dataset)\n",
    "  loss = tf.reduce_mean(tf.nn.softmax_cross_entropy_with_logits(labels=tf_train_labels, logits=logits))\n",
    "    \n",
    "  # Optimizer.\n",
    "  learning_rate = tf.train.exponential_decay(0.5, global_step, 1000, 0.65, staircase=True)\n",
    "  optimizer = tf.train.AdamOptimizer(learning_rate).minimize(loss)\n",
    "  \n",
    "  # Predictions for the training, validation, and test data.\n",
    "  train_prediction = tf.nn.softmax(logits)\n",
    "  print(train_prediction.shape)\n",
    "  valid_prediction = tf.nn.softmax(model(tf_valid_dataset))\n",
    "  test_prediction = tf.nn.softmax(model(tf_test_dataset))"
   ]
  },
  {
   "cell_type": "code",
   "execution_count": 22,
   "metadata": {},
   "outputs": [
    {
     "name": "stdout",
     "output_type": "stream",
     "text": [
      "[512, 8, 8, 96]\n",
      "WARNING:tensorflow:From <ipython-input-22-4a7cceb41902>:45: softmax_cross_entropy_with_logits (from tensorflow.python.ops.nn_ops) is deprecated and will be removed in a future version.\n",
      "Instructions for updating:\n",
      "\n",
      "Future major versions of TensorFlow will allow gradients to flow\n",
      "into the labels input on backprop by default.\n",
      "\n",
      "See @{tf.nn.softmax_cross_entropy_with_logits_v2}.\n",
      "\n",
      "(512, 10)\n",
      "[20000, 8, 8, 96]\n",
      "[26032, 8, 8, 96]\n"
     ]
    }
   ],
   "source": [
    "batch_size = 512\n",
    "patch_size = 5\n",
    "depth1 = 48\n",
    "depth2 = 96\n",
    "num_hidden = 64\n",
    "num_channels = 3 #RGB image\n",
    "\n",
    "graph = tf.Graph()\n",
    "\n",
    "with graph.as_default():\n",
    "\n",
    "  # Input data.\n",
    "  tf_train_dataset = tf.placeholder(tf.float32, shape=(batch_size, image_size, image_size, num_channels))\n",
    "  tf_train_labels = tf.placeholder(tf.float32, shape=(batch_size, num_labels))\n",
    "  tf_valid_dataset = tf.constant(valid_dataset)\n",
    "  tf_test_dataset = tf.constant(test_dataset)\n",
    "  global_step = tf.Variable(0)\n",
    "  \n",
    "  # Variables.\n",
    "  layer1_weights = tf.Variable(tf.truncated_normal([patch_size, patch_size, num_channels, depth1], stddev=0.1))\n",
    "  layer1_biases = tf.Variable(tf.zeros([depth1]))\n",
    "  layer2_weights = tf.Variable(tf.truncated_normal([patch_size, patch_size, depth1, depth2], stddev=0.1))\n",
    "  layer2_biases = tf.Variable(tf.constant(1.0, shape=[depth2]))\n",
    "  layer3_weights = tf.Variable(tf.truncated_normal([image_size // 4 * image_size // 4 * depth2, num_hidden], stddev=0.1))\n",
    "  layer3_biases = tf.Variable(tf.constant(1.0, shape=[num_hidden]))\n",
    "  layer4_weights = tf.Variable(tf.truncated_normal([num_hidden, num_labels], stddev=0.1))\n",
    "  layer4_biases = tf.Variable(tf.constant(1.0, shape=[num_labels]))\n",
    "  \n",
    "  # Model.\n",
    "  def model(data):\n",
    "    conv = tf.nn.conv2d(data, layer1_weights, [1, 1, 1, 1], padding='SAME')\n",
    "    hidden = tf.nn.relu(conv + layer1_biases)\n",
    "    pool = tf.nn.max_pool(hidden, [1, 2, 2, 1], [1, 2, 2, 1], padding='SAME')\n",
    "    conv = tf.nn.conv2d(pool, layer2_weights, [1, 1, 1, 1], padding='SAME')\n",
    "    hidden = tf.nn.relu(conv + layer2_biases)\n",
    "    pool = tf.nn.max_pool(hidden, [1, 2, 2, 1], [1, 2, 2, 1], padding='SAME')\n",
    "    shape = pool.get_shape().as_list()\n",
    "    print(shape)\n",
    "    reshape = tf.reshape(pool, [shape[0], shape[1] * shape[2] * shape[3]])\n",
    "    hidden = tf.nn.relu(tf.matmul(reshape, layer3_weights) + layer3_biases)\n",
    "    return tf.matmul(hidden, layer4_weights) + layer4_biases\n",
    "  \n",
    "  # Training computation.\n",
    "  logits = model(tf_train_dataset)\n",
    "  loss = tf.reduce_mean(tf.nn.softmax_cross_entropy_with_logits(labels=tf_train_labels, logits=logits))\n",
    "    \n",
    "  # Optimizer.\n",
    "  learning_rate = tf.train.exponential_decay(0.5, global_step, 1000, 0.65, staircase=True)\n",
    "  optimizer = tf.train.AdamOptimizer(learning_rate).minimize(loss)\n",
    "  \n",
    "  # Predictions for the training, validation, and test data.\n",
    "  train_prediction = tf.nn.softmax(logits)\n",
    "  print(train_prediction.shape)\n",
    "  valid_prediction = tf.nn.softmax(model(tf_valid_dataset))\n",
    "  test_prediction = tf.nn.softmax(model(tf_test_dataset))"
   ]
  },
  {
   "cell_type": "code",
   "execution_count": 24,
   "metadata": {},
   "outputs": [],
   "source": [
    "#Accuracy\n",
    "def accuracy(predictions, labels):\n",
    "  return (100.0 * np.sum(np.argmax(predictions, 1) == np.argmax(labels, 1))\n",
    "          / predictions.shape[0])"
   ]
  },
  {
   "cell_type": "code",
   "execution_count": 25,
   "metadata": {},
   "outputs": [
    {
     "name": "stdout",
     "output_type": "stream",
     "text": [
      "Initialized\n",
      "Minibatch loss at step 0: 1.000000\n",
      "Minibatch accuracy: 14.8%\n",
      "Validation accuracy: 6.2%\n",
      "Minibatch loss at step 50: 1.000000\n",
      "Minibatch accuracy: 17.4%\n",
      "Validation accuracy: 17.5%\n",
      "Minibatch loss at step 100: 1.000000\n",
      "Minibatch accuracy: 20.7%\n",
      "Validation accuracy: 17.5%\n",
      "Minibatch loss at step 150: 1.000000\n",
      "Minibatch accuracy: 21.3%\n",
      "Validation accuracy: 17.5%\n",
      "Minibatch loss at step 200: 1.000000\n",
      "Minibatch accuracy: 17.4%\n",
      "Validation accuracy: 17.5%\n",
      "Minibatch loss at step 250: 1.000000\n",
      "Minibatch accuracy: 16.8%\n",
      "Validation accuracy: 17.5%\n",
      "Minibatch loss at step 300: 1.000000\n",
      "Minibatch accuracy: 18.4%\n"
     ]
    },
    {
     "ename": "KeyboardInterrupt",
     "evalue": "",
     "output_type": "error",
     "traceback": [
      "\u001b[0;31m---------------------------------------------------------------------------\u001b[0m",
      "\u001b[0;31mKeyboardInterrupt\u001b[0m                         Traceback (most recent call last)",
      "\u001b[0;32m<ipython-input-25-263c690107c1>\u001b[0m in \u001b[0;36m<module>\u001b[0;34m\u001b[0m\n\u001b[1;32m     15\u001b[0m       \u001b[0mprint\u001b[0m\u001b[0;34m(\u001b[0m\u001b[0;34m'Minibatch loss at step %d: %f'\u001b[0m \u001b[0;34m%\u001b[0m \u001b[0;34m(\u001b[0m\u001b[0mstep\u001b[0m\u001b[0;34m,\u001b[0m \u001b[0;36m1\u001b[0m\u001b[0;34m)\u001b[0m\u001b[0;34m)\u001b[0m\u001b[0;34m\u001b[0m\u001b[0m\n\u001b[1;32m     16\u001b[0m       \u001b[0mprint\u001b[0m\u001b[0;34m(\u001b[0m\u001b[0;34m'Minibatch accuracy: %.1f%%'\u001b[0m \u001b[0;34m%\u001b[0m \u001b[0maccuracy\u001b[0m\u001b[0;34m(\u001b[0m\u001b[0mpredictions\u001b[0m\u001b[0;34m,\u001b[0m \u001b[0mbatch_labels\u001b[0m\u001b[0;34m)\u001b[0m\u001b[0;34m)\u001b[0m\u001b[0;34m\u001b[0m\u001b[0m\n\u001b[0;32m---> 17\u001b[0;31m       \u001b[0mprint\u001b[0m\u001b[0;34m(\u001b[0m\u001b[0;34m'Validation accuracy: %.1f%%'\u001b[0m \u001b[0;34m%\u001b[0m \u001b[0maccuracy\u001b[0m\u001b[0;34m(\u001b[0m\u001b[0mvalid_prediction\u001b[0m\u001b[0;34m.\u001b[0m\u001b[0meval\u001b[0m\u001b[0;34m(\u001b[0m\u001b[0;34m)\u001b[0m\u001b[0;34m,\u001b[0m \u001b[0mvalid_labels\u001b[0m\u001b[0;34m)\u001b[0m\u001b[0;34m)\u001b[0m\u001b[0;34m\u001b[0m\u001b[0m\n\u001b[0m\u001b[1;32m     18\u001b[0m   \u001b[0mprint\u001b[0m\u001b[0;34m(\u001b[0m\u001b[0;34m'Test accuracy: %.1f%%'\u001b[0m \u001b[0;34m%\u001b[0m \u001b[0maccuracy\u001b[0m\u001b[0;34m(\u001b[0m\u001b[0mtest_prediction\u001b[0m\u001b[0;34m.\u001b[0m\u001b[0meval\u001b[0m\u001b[0;34m(\u001b[0m\u001b[0;34m)\u001b[0m\u001b[0;34m,\u001b[0m \u001b[0mtest_labels\u001b[0m\u001b[0;34m)\u001b[0m\u001b[0;34m)\u001b[0m\u001b[0;34m\u001b[0m\u001b[0m\n",
      "\u001b[0;32m~/anaconda3/envs/RoboND/lib/python3.5/site-packages/tensorflow/python/framework/ops.py\u001b[0m in \u001b[0;36meval\u001b[0;34m(self, feed_dict, session)\u001b[0m\n\u001b[1;32m    678\u001b[0m \u001b[0;34m\u001b[0m\u001b[0m\n\u001b[1;32m    679\u001b[0m     \"\"\"\n\u001b[0;32m--> 680\u001b[0;31m     \u001b[0;32mreturn\u001b[0m \u001b[0m_eval_using_default_session\u001b[0m\u001b[0;34m(\u001b[0m\u001b[0mself\u001b[0m\u001b[0;34m,\u001b[0m \u001b[0mfeed_dict\u001b[0m\u001b[0;34m,\u001b[0m \u001b[0mself\u001b[0m\u001b[0;34m.\u001b[0m\u001b[0mgraph\u001b[0m\u001b[0;34m,\u001b[0m \u001b[0msession\u001b[0m\u001b[0;34m)\u001b[0m\u001b[0;34m\u001b[0m\u001b[0m\n\u001b[0m\u001b[1;32m    681\u001b[0m \u001b[0;34m\u001b[0m\u001b[0m\n\u001b[1;32m    682\u001b[0m \u001b[0;34m\u001b[0m\u001b[0m\n",
      "\u001b[0;32m~/anaconda3/envs/RoboND/lib/python3.5/site-packages/tensorflow/python/framework/ops.py\u001b[0m in \u001b[0;36m_eval_using_default_session\u001b[0;34m(tensors, feed_dict, graph, session)\u001b[0m\n\u001b[1;32m   4949\u001b[0m                        \u001b[0;34m\"the tensor's graph is different from the session's \"\u001b[0m\u001b[0;34m\u001b[0m\u001b[0m\n\u001b[1;32m   4950\u001b[0m                        \"graph.\")\n\u001b[0;32m-> 4951\u001b[0;31m   \u001b[0;32mreturn\u001b[0m \u001b[0msession\u001b[0m\u001b[0;34m.\u001b[0m\u001b[0mrun\u001b[0m\u001b[0;34m(\u001b[0m\u001b[0mtensors\u001b[0m\u001b[0;34m,\u001b[0m \u001b[0mfeed_dict\u001b[0m\u001b[0;34m)\u001b[0m\u001b[0;34m\u001b[0m\u001b[0m\n\u001b[0m\u001b[1;32m   4952\u001b[0m \u001b[0;34m\u001b[0m\u001b[0m\n\u001b[1;32m   4953\u001b[0m \u001b[0;34m\u001b[0m\u001b[0m\n",
      "\u001b[0;32m~/anaconda3/envs/RoboND/lib/python3.5/site-packages/tensorflow/python/client/session.py\u001b[0m in \u001b[0;36mrun\u001b[0;34m(self, fetches, feed_dict, options, run_metadata)\u001b[0m\n\u001b[1;32m    875\u001b[0m     \u001b[0;32mtry\u001b[0m\u001b[0;34m:\u001b[0m\u001b[0;34m\u001b[0m\u001b[0m\n\u001b[1;32m    876\u001b[0m       result = self._run(None, fetches, feed_dict, options_ptr,\n\u001b[0;32m--> 877\u001b[0;31m                          run_metadata_ptr)\n\u001b[0m\u001b[1;32m    878\u001b[0m       \u001b[0;32mif\u001b[0m \u001b[0mrun_metadata\u001b[0m\u001b[0;34m:\u001b[0m\u001b[0;34m\u001b[0m\u001b[0m\n\u001b[1;32m    879\u001b[0m         \u001b[0mproto_data\u001b[0m \u001b[0;34m=\u001b[0m \u001b[0mtf_session\u001b[0m\u001b[0;34m.\u001b[0m\u001b[0mTF_GetBuffer\u001b[0m\u001b[0;34m(\u001b[0m\u001b[0mrun_metadata_ptr\u001b[0m\u001b[0;34m)\u001b[0m\u001b[0;34m\u001b[0m\u001b[0m\n",
      "\u001b[0;32m~/anaconda3/envs/RoboND/lib/python3.5/site-packages/tensorflow/python/client/session.py\u001b[0m in \u001b[0;36m_run\u001b[0;34m(self, handle, fetches, feed_dict, options, run_metadata)\u001b[0m\n\u001b[1;32m   1098\u001b[0m     \u001b[0;32mif\u001b[0m \u001b[0mfinal_fetches\u001b[0m \u001b[0;32mor\u001b[0m \u001b[0mfinal_targets\u001b[0m \u001b[0;32mor\u001b[0m \u001b[0;34m(\u001b[0m\u001b[0mhandle\u001b[0m \u001b[0;32mand\u001b[0m \u001b[0mfeed_dict_tensor\u001b[0m\u001b[0;34m)\u001b[0m\u001b[0;34m:\u001b[0m\u001b[0;34m\u001b[0m\u001b[0m\n\u001b[1;32m   1099\u001b[0m       results = self._do_run(handle, final_targets, final_fetches,\n\u001b[0;32m-> 1100\u001b[0;31m                              feed_dict_tensor, options, run_metadata)\n\u001b[0m\u001b[1;32m   1101\u001b[0m     \u001b[0;32melse\u001b[0m\u001b[0;34m:\u001b[0m\u001b[0;34m\u001b[0m\u001b[0m\n\u001b[1;32m   1102\u001b[0m       \u001b[0mresults\u001b[0m \u001b[0;34m=\u001b[0m \u001b[0;34m[\u001b[0m\u001b[0;34m]\u001b[0m\u001b[0;34m\u001b[0m\u001b[0m\n",
      "\u001b[0;32m~/anaconda3/envs/RoboND/lib/python3.5/site-packages/tensorflow/python/client/session.py\u001b[0m in \u001b[0;36m_do_run\u001b[0;34m(self, handle, target_list, fetch_list, feed_dict, options, run_metadata)\u001b[0m\n\u001b[1;32m   1270\u001b[0m     \u001b[0;32mif\u001b[0m \u001b[0mhandle\u001b[0m \u001b[0;32mis\u001b[0m \u001b[0;32mNone\u001b[0m\u001b[0;34m:\u001b[0m\u001b[0;34m\u001b[0m\u001b[0m\n\u001b[1;32m   1271\u001b[0m       return self._do_call(_run_fn, feeds, fetches, targets, options,\n\u001b[0;32m-> 1272\u001b[0;31m                            run_metadata)\n\u001b[0m\u001b[1;32m   1273\u001b[0m     \u001b[0;32melse\u001b[0m\u001b[0;34m:\u001b[0m\u001b[0;34m\u001b[0m\u001b[0m\n\u001b[1;32m   1274\u001b[0m       \u001b[0;32mreturn\u001b[0m \u001b[0mself\u001b[0m\u001b[0;34m.\u001b[0m\u001b[0m_do_call\u001b[0m\u001b[0;34m(\u001b[0m\u001b[0m_prun_fn\u001b[0m\u001b[0;34m,\u001b[0m \u001b[0mhandle\u001b[0m\u001b[0;34m,\u001b[0m \u001b[0mfeeds\u001b[0m\u001b[0;34m,\u001b[0m \u001b[0mfetches\u001b[0m\u001b[0;34m)\u001b[0m\u001b[0;34m\u001b[0m\u001b[0m\n",
      "\u001b[0;32m~/anaconda3/envs/RoboND/lib/python3.5/site-packages/tensorflow/python/client/session.py\u001b[0m in \u001b[0;36m_do_call\u001b[0;34m(self, fn, *args)\u001b[0m\n\u001b[1;32m   1276\u001b[0m   \u001b[0;32mdef\u001b[0m \u001b[0m_do_call\u001b[0m\u001b[0;34m(\u001b[0m\u001b[0mself\u001b[0m\u001b[0;34m,\u001b[0m \u001b[0mfn\u001b[0m\u001b[0;34m,\u001b[0m \u001b[0;34m*\u001b[0m\u001b[0margs\u001b[0m\u001b[0;34m)\u001b[0m\u001b[0;34m:\u001b[0m\u001b[0;34m\u001b[0m\u001b[0m\n\u001b[1;32m   1277\u001b[0m     \u001b[0;32mtry\u001b[0m\u001b[0;34m:\u001b[0m\u001b[0;34m\u001b[0m\u001b[0m\n\u001b[0;32m-> 1278\u001b[0;31m       \u001b[0;32mreturn\u001b[0m \u001b[0mfn\u001b[0m\u001b[0;34m(\u001b[0m\u001b[0;34m*\u001b[0m\u001b[0margs\u001b[0m\u001b[0;34m)\u001b[0m\u001b[0;34m\u001b[0m\u001b[0m\n\u001b[0m\u001b[1;32m   1279\u001b[0m     \u001b[0;32mexcept\u001b[0m \u001b[0merrors\u001b[0m\u001b[0;34m.\u001b[0m\u001b[0mOpError\u001b[0m \u001b[0;32mas\u001b[0m \u001b[0me\u001b[0m\u001b[0;34m:\u001b[0m\u001b[0;34m\u001b[0m\u001b[0m\n\u001b[1;32m   1280\u001b[0m       \u001b[0mmessage\u001b[0m \u001b[0;34m=\u001b[0m \u001b[0mcompat\u001b[0m\u001b[0;34m.\u001b[0m\u001b[0mas_text\u001b[0m\u001b[0;34m(\u001b[0m\u001b[0me\u001b[0m\u001b[0;34m.\u001b[0m\u001b[0mmessage\u001b[0m\u001b[0;34m)\u001b[0m\u001b[0;34m\u001b[0m\u001b[0m\n",
      "\u001b[0;32m~/anaconda3/envs/RoboND/lib/python3.5/site-packages/tensorflow/python/client/session.py\u001b[0m in \u001b[0;36m_run_fn\u001b[0;34m(feed_dict, fetch_list, target_list, options, run_metadata)\u001b[0m\n\u001b[1;32m   1261\u001b[0m       \u001b[0mself\u001b[0m\u001b[0;34m.\u001b[0m\u001b[0m_extend_graph\u001b[0m\u001b[0;34m(\u001b[0m\u001b[0;34m)\u001b[0m\u001b[0;34m\u001b[0m\u001b[0m\n\u001b[1;32m   1262\u001b[0m       return self._call_tf_sessionrun(\n\u001b[0;32m-> 1263\u001b[0;31m           options, feed_dict, fetch_list, target_list, run_metadata)\n\u001b[0m\u001b[1;32m   1264\u001b[0m \u001b[0;34m\u001b[0m\u001b[0m\n\u001b[1;32m   1265\u001b[0m     \u001b[0;32mdef\u001b[0m \u001b[0m_prun_fn\u001b[0m\u001b[0;34m(\u001b[0m\u001b[0mhandle\u001b[0m\u001b[0;34m,\u001b[0m \u001b[0mfeed_dict\u001b[0m\u001b[0;34m,\u001b[0m \u001b[0mfetch_list\u001b[0m\u001b[0;34m)\u001b[0m\u001b[0;34m:\u001b[0m\u001b[0;34m\u001b[0m\u001b[0m\n",
      "\u001b[0;32m~/anaconda3/envs/RoboND/lib/python3.5/site-packages/tensorflow/python/client/session.py\u001b[0m in \u001b[0;36m_call_tf_sessionrun\u001b[0;34m(self, options, feed_dict, fetch_list, target_list, run_metadata)\u001b[0m\n\u001b[1;32m   1348\u001b[0m     return tf_session.TF_SessionRun_wrapper(\n\u001b[1;32m   1349\u001b[0m         \u001b[0mself\u001b[0m\u001b[0;34m.\u001b[0m\u001b[0m_session\u001b[0m\u001b[0;34m,\u001b[0m \u001b[0moptions\u001b[0m\u001b[0;34m,\u001b[0m \u001b[0mfeed_dict\u001b[0m\u001b[0;34m,\u001b[0m \u001b[0mfetch_list\u001b[0m\u001b[0;34m,\u001b[0m \u001b[0mtarget_list\u001b[0m\u001b[0;34m,\u001b[0m\u001b[0;34m\u001b[0m\u001b[0m\n\u001b[0;32m-> 1350\u001b[0;31m         run_metadata)\n\u001b[0m\u001b[1;32m   1351\u001b[0m \u001b[0;34m\u001b[0m\u001b[0m\n\u001b[1;32m   1352\u001b[0m   \u001b[0;32mdef\u001b[0m \u001b[0m_call_tf_sessionprun\u001b[0m\u001b[0;34m(\u001b[0m\u001b[0mself\u001b[0m\u001b[0;34m,\u001b[0m \u001b[0mhandle\u001b[0m\u001b[0;34m,\u001b[0m \u001b[0mfeed_dict\u001b[0m\u001b[0;34m,\u001b[0m \u001b[0mfetch_list\u001b[0m\u001b[0;34m)\u001b[0m\u001b[0;34m:\u001b[0m\u001b[0;34m\u001b[0m\u001b[0m\n",
      "\u001b[0;31mKeyboardInterrupt\u001b[0m: "
     ]
    }
   ],
   "source": [
    "num_steps = 1001\n",
    "with tf.Session(graph=graph) as session:\n",
    "  tf.global_variables_initializer().run()\n",
    "  print('Initialized')\n",
    "  for step in range(num_steps):\n",
    "    offset = (step * batch_size) % (train_labels.shape[0] - batch_size)\n",
    "    batch_data = train_dataset[offset:(offset + batch_size), :, :, :]\n",
    "#     print(batch_data.shape)\n",
    "    batch_labels = train_labels[offset:(offset + batch_size), :]\n",
    "    feed_dict = {tf_train_dataset : batch_data, tf_train_labels : batch_labels}\n",
    "    _, l, predictions = session.run(\n",
    "      [optimizer, loss, train_prediction], feed_dict=feed_dict)\n",
    "    \n",
    "    if (step % 50 == 0):\n",
    "      print('Minibatch loss at step %d: %f' % (step, l))\n",
    "      print('Minibatch accuracy: %.1f%%' % accuracy(predictions, batch_labels))\n",
    "      print('Validation accuracy: %.1f%%' % accuracy(valid_prediction.eval(), valid_labels))\n",
    "  print('Test accuracy: %.1f%%' % accuracy(test_prediction.eval(), test_labels))"
   ]
  },
  {
   "cell_type": "code",
   "execution_count": null,
   "metadata": {},
   "outputs": [],
   "source": []
  },
  {
   "cell_type": "code",
   "execution_count": null,
   "metadata": {},
   "outputs": [],
   "source": []
  },
  {
   "cell_type": "code",
   "execution_count": null,
   "metadata": {},
   "outputs": [],
   "source": []
  }
 ],
 "metadata": {
  "kernelspec": {
   "display_name": "Python [conda env:RoboND]",
   "language": "python",
   "name": "conda-env-RoboND-py"
  },
  "widgets": {
   "state": {},
   "version": "1.1.2"
  }
 },
 "nbformat": 4,
 "nbformat_minor": 2
}
